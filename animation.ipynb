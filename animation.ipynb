{
 "cells": [
  {
   "cell_type": "code",
   "execution_count": 4,
   "id": "complicated-retirement",
   "metadata": {},
   "outputs": [],
   "source": [
    "from manim import *"
   ]
  },
  {
   "cell_type": "code",
   "execution_count": null,
   "id": "formal-bargain",
   "metadata": {},
   "outputs": [],
   "source": [
    "%%manim -qm SumFormula\n",
    "\n",
    "from manim import *\n",
    "from calculations import taylor_cos, taylor_sin, taylor_exp\n",
    "import math\n",
    "x = 0.5\n",
    "terms = 10\n",
    "def calculate(x,template, terms=10,start=0):\n",
    "    \"\"\"Compute template using the Taylor series expansion.\"\"\"\n",
    "    exp_approx = 0\n",
    "    list_show = []\n",
    "    for n in range(start,terms+1):\n",
    "        if n < 3:\n",
    "            list_show.append(round(template(x,n),4))\n",
    "        exp_approx += template(x,n)\n",
    "    return round(exp_approx,5),list_show\n",
    "class SumFormula(Scene):\n",
    "    \n",
    "    def draw(self,x,terms form, func_name, bounds, up, left, func,start):\n",
    "        res, list_show = calculate(x, func, terms,start)\n",
    "        # Create the formula string with proper LaTeX formatting\n",
    "        formula_str = f\"{func_name} = \\\\sum_{{n={start}}}^{{{terms}}} {form} = \\\\frac{{1}}{{{list_show[0]}}} + \\\\frac{{1}}{{{list_show[1]}}} + \\\\frac{{1}}{{{list_show[2]}}} + \\\\ldots = {res} \\\\qquad {bounds}\"\n",
    "        \n",
    "        # Convert the string into a MathTex object\n",
    "        formula = MathTex(formula_str, font_size=36)\n",
    "        \n",
    "        # Position the formula at the center initially\n",
    "        formula.move_to(ORIGIN)\n",
    "        \n",
    "        # Display the formula\n",
    "        self.play(Write(formula))\n",
    "        self.wait(2)\n",
    "        \n",
    "        # Move the formula to the specified position\n",
    "        target_position = up * UP + left * LEFT\n",
    "        self.play(formula.animate.move_to(target_position))\n",
    "        self.wait(1)\n",
    "        \n",
    "    def construct(self,x,terms):\n",
    "        # Draw the Taylor series for e^x\n",
    "        self.draw(f\"\\\\frac{{{x}^n}}{{n!}}\", f\"e^{{{x}}}\", \"\\\\forall x\", 3, 0.2, taylor_exp,0)\n",
    "\n",
    "        # Draw the Taylor series for sin(x)\n",
    "        self.draw(f\"(-1)^n \\\\frac{{{x}^{{2n+1}}}}{{(2n+1)!}}\", f\"\\\\sin({x})\", \"\\\\forall x\", -3, 0.2, taylor_sin,0)\n",
    "\n",
    "        # Draw the Taylor series for cos(x)\n",
    "        self.draw(f\"(-1)^n \\\\frac{{{x}^{{2n}}}}{{(2n)!}}\", f\"\\\\cos({x})\", \"\\\\forall x\", 0, 0, taylor_cos,0)"
   ]
  }
 ],
 "metadata": {
  "kernelspec": {
   "display_name": "Python 3 (ipykernel)",
   "language": "python",
   "name": "python3"
  },
  "language_info": {
   "codemirror_mode": {
    "name": "ipython",
    "version": 3
   },
   "file_extension": ".py",
   "mimetype": "text/x-python",
   "name": "python",
   "nbconvert_exporter": "python",
   "pygments_lexer": "ipython3",
   "version": "3.11.9"
  }
 },
 "nbformat": 4,
 "nbformat_minor": 5
}
